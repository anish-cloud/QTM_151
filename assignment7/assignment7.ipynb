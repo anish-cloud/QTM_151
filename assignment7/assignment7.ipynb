{
 "cells": [
  {
   "attachments": {},
   "cell_type": "markdown",
   "metadata": {},
   "source": [
    "# Assignment 7"
   ]
  },
  {
   "attachments": {},
   "cell_type": "markdown",
   "metadata": {},
   "source": [
    "## Submit as an HTML file"
   ]
  },
  {
   "attachments": {},
   "cell_type": "markdown",
   "metadata": {},
   "source": [
    "<font size = \"5\">\n",
    "Print your name below"
   ]
  },
  {
   "cell_type": "code",
   "execution_count": null,
   "metadata": {},
   "outputs": [],
   "source": [
    "print(\"Anish Nayak\")"
   ]
  },
  {
   "attachments": {},
   "cell_type": "markdown",
   "metadata": {},
   "source": [
    "<font size = \"5\">\n",
    "\n",
    "Import the \"pandas\" and \"numpy\" library"
   ]
  },
  {
   "cell_type": "code",
   "execution_count": 2,
   "metadata": {},
   "outputs": [],
   "source": [
    "# Write your answer here:\n",
    "\n",
    "import pandas as pd\n",
    "import numpy as np"
   ]
  },
  {
   "attachments": {},
   "cell_type": "markdown",
   "metadata": {},
   "source": [
    "<font size = \"5\">\n",
    "\n",
    "(a) Replace values from intervals\n",
    "\n",
    "<font size = \"3\">\n",
    "\n",
    "- Import the dataset \"data_raw/students.csv\" to a new object \"students\"\n",
    "- Use \"pd.cut()\" to assign the column \"numericgrade\" to a letter grade <br>\n",
    "\n",
    "- Using the following grading scale: <br>\n",
    "\n",
    "<img src=\"figures/grading_scale.png\" alt=\"drawing\" width=\"600\"/>\n"
   ]
  },
  {
   "cell_type": "code",
   "execution_count": 8,
   "metadata": {},
   "outputs": [
    {
     "name": "stdout",
     "output_type": "stream",
     "text": [
      "    studentid  numericgrade lettergrade\n",
      "0           1            61           D\n",
      "1           2             0           F\n",
      "2           3            14           F\n",
      "3           4            57           F\n",
      "4           5            72           C\n",
      "5           6            93           A\n",
      "6           7            40           F\n",
      "7           8            11           F\n",
      "8           9             3           F\n",
      "9          10            63           D\n",
      "10         11             7           F\n",
      "11         12            46           F\n",
      "12         13            75           C\n",
      "13         14            95           A\n",
      "14         15            22           F\n",
      "15         16            40           F\n",
      "16         17            53           F\n",
      "17         18            57           F\n",
      "18         19            82           B\n",
      "19         20            50           F\n",
      "20         21             8           F\n",
      "21         22            87           B\n",
      "22         23            82           B\n",
      "23         24            30           F\n",
      "24         25            62           D\n"
     ]
    }
   ],
   "source": [
    "\n",
    "\n",
    "students = pd.read_csv('data_raw/students.csv')\n",
    "\n",
    "bins = [0, 60, 70, 80, 90, 100]\n",
    "labels = ['F', 'D', 'C', 'B', 'A']\n",
    "\n",
    "students['lettergrade'] = pd.cut(students['numericgrade'], bins=bins, labels=labels, right=False)\n",
    "\n",
    "print(students)\n"
   ]
  },
  {
   "attachments": {},
   "cell_type": "markdown",
   "metadata": {},
   "source": [
    "<font size = \"5\">\n",
    "\n",
    "For questions (b)-(e) use \"results.csv\", <br>\n",
    "a dataset on competitive car racing\n",
    "\n",
    "Import the dataset \"data_raw/results.csv\" to <br>\n",
    " a new object \"results\""
   ]
  },
  {
   "cell_type": "code",
   "execution_count": 9,
   "metadata": {},
   "outputs": [],
   "source": [
    "results = pd.read_csv('data_raw/results.csv')"
   ]
  },
  {
   "attachments": {},
   "cell_type": "markdown",
   "metadata": {},
   "source": [
    "<font size = \"5\">\n",
    "\n",
    "(b) Check column types\n",
    "\n",
    "<font size = \"3\">\n",
    "\n",
    "- View the dataset\n",
    "- Use the function \"results.dtypes\" to get the column types\n",
    "- Search for the \"results\" table in \"codebook/f1_codebook.pdf\".\n",
    "- Does the type of the \"time\" column agree with the codebook? <br>\n",
    "i.e. is it an integer, float, or string/object?\n",
    "\n",
    "\n",
    "HINT: See Lectures 12 and 14 for how to interpret the codebook\n"
   ]
  },
  {
   "cell_type": "code",
   "execution_count": 10,
   "metadata": {},
   "outputs": [
    {
     "data": {
      "text/plain": [
       "(       resultId  raceId  driverId  constructorId number  grid position  \\\n",
       " 0             1      18         1              1     22     1        1   \n",
       " 1             2      18         2              2      3     5        2   \n",
       " 2             3      18         3              3      7     7        3   \n",
       " 3             4      18         4              4      5    11        4   \n",
       " 4             5      18         5              1     23     3        5   \n",
       " ...         ...     ...       ...            ...    ...   ...      ...   \n",
       " 25835     25841    1096       854            210     47    12       16   \n",
       " 25836     25842    1096       825            210     20    16       17   \n",
       " 25837     25843    1096         1            131     44     5       18   \n",
       " 25838     25844    1096       849              3      6    20       19   \n",
       " 25839     25845    1096         4            214     14    10       \\N   \n",
       " \n",
       "       positionText  positionOrder  points  laps         time milliseconds  \\\n",
       " 0                1              1    10.0    58  1:34:50.616      5690616   \n",
       " 1                2              2     8.0    58       +5.478      5696094   \n",
       " 2                3              3     6.0    58       +8.163      5698779   \n",
       " 3                4              4     5.0    58      +17.181      5707797   \n",
       " 4                5              5     4.0    58      +18.014      5708630   \n",
       " ...            ...            ...     ...   ...          ...          ...   \n",
       " 25835           16             16     0.0    57           \\N           \\N   \n",
       " 25836           17             17     0.0    57           \\N           \\N   \n",
       " 25837           18             18     0.0    55           \\N           \\N   \n",
       " 25838           19             19     0.0    55           \\N           \\N   \n",
       " 25839            R             20     0.0    27           \\N           \\N   \n",
       " \n",
       "       fastestLap rank fastestLapTime fastestLapSpeed  statusId  \n",
       " 0             39    2       1:27.452         218.300         1  \n",
       " 1             41    3       1:27.739         217.586         1  \n",
       " 2             41    5       1:28.090         216.719         1  \n",
       " 3             58    7       1:28.603         215.464         1  \n",
       " 4             43    1       1:27.418         218.385         1  \n",
       " ...          ...  ...            ...             ...       ...  \n",
       " 25835         39   12       1:29.833         211.632        11  \n",
       " 25836         40   20       1:31.158         208.556        11  \n",
       " 25837         42   11       1:29.788         211.738         9  \n",
       " 25838         45   14       1:30.309         210.517       130  \n",
       " 25839         24   17       1:30.579         209.889        47  \n",
       " \n",
       " [25840 rows x 18 columns],\n",
       " resultId             int64\n",
       " raceId               int64\n",
       " driverId             int64\n",
       " constructorId        int64\n",
       " number              object\n",
       " grid                 int64\n",
       " position            object\n",
       " positionText        object\n",
       " positionOrder        int64\n",
       " points             float64\n",
       " laps                 int64\n",
       " time                object\n",
       " milliseconds        object\n",
       " fastestLap          object\n",
       " rank                object\n",
       " fastestLapTime      object\n",
       " fastestLapSpeed     object\n",
       " statusId             int64\n",
       " dtype: object)"
      ]
     },
     "execution_count": 10,
     "metadata": {},
     "output_type": "execute_result"
    }
   ],
   "source": [
    "# Write your own code here\n",
    "# Note: When you run \"results.dtypes\" you will get the type (int, float, object)\n",
    "# Object represents columns coded as strings.\n",
    "\n",
    "\n",
    "results, results.dtypes\n",
    "\n",
    "# the time column is listed as a type object, which suggests that it is being treated as a string or mixed type in the dataset\n",
    "\n",
    "\n",
    "\n"
   ]
  },
  {
   "attachments": {},
   "cell_type": "markdown",
   "metadata": {},
   "source": [
    "<font size = \"5\">\n",
    "\n",
    "(c) Clean a column\n",
    "\n",
    "<font size = \"3\">\n",
    "\n",
    "- Import the dataset \"data_raw/results.csv\" to a new object \"results\"\n",
    "- Our goal is to replace any string values in the column \"milliseconds\" <br>\n",
    "to missing values (NaNs) and covert to numeric\n",
    "- To do so\n",
    "    - \"Extract list of non-numeric values\"\n",
    "    - \"Replace certain values\"\n",
    "    - \"Convert column to numeric\"\n",
    "    - \"Display\"\n",
    " \n"
   ]
  },
  {
   "cell_type": "code",
   "execution_count": 11,
   "metadata": {},
   "outputs": [
    {
     "data": {
      "text/plain": [
       "(array(['\\\\N'], dtype=object),\n",
       "        resultId  raceId  driverId  constructorId number  grid position  \\\n",
       " 0             1      18         1              1     22     1        1   \n",
       " 1             2      18         2              2      3     5        2   \n",
       " 2             3      18         3              3      7     7        3   \n",
       " 3             4      18         4              4      5    11        4   \n",
       " 4             5      18         5              1     23     3        5   \n",
       " ...         ...     ...       ...            ...    ...   ...      ...   \n",
       " 25835     25841    1096       854            210     47    12       16   \n",
       " 25836     25842    1096       825            210     20    16       17   \n",
       " 25837     25843    1096         1            131     44     5       18   \n",
       " 25838     25844    1096       849              3      6    20       19   \n",
       " 25839     25845    1096         4            214     14    10       \\N   \n",
       " \n",
       "       positionText  positionOrder  points  laps         time  milliseconds  \\\n",
       " 0                1              1    10.0    58  1:34:50.616     5690616.0   \n",
       " 1                2              2     8.0    58       +5.478     5696094.0   \n",
       " 2                3              3     6.0    58       +8.163     5698779.0   \n",
       " 3                4              4     5.0    58      +17.181     5707797.0   \n",
       " 4                5              5     4.0    58      +18.014     5708630.0   \n",
       " ...            ...            ...     ...   ...          ...           ...   \n",
       " 25835           16             16     0.0    57           \\N           NaN   \n",
       " 25836           17             17     0.0    57           \\N           NaN   \n",
       " 25837           18             18     0.0    55           \\N           NaN   \n",
       " 25838           19             19     0.0    55           \\N           NaN   \n",
       " 25839            R             20     0.0    27           \\N           NaN   \n",
       " \n",
       "       fastestLap rank fastestLapTime fastestLapSpeed  statusId  \n",
       " 0             39    2       1:27.452         218.300         1  \n",
       " 1             41    3       1:27.739         217.586         1  \n",
       " 2             41    5       1:28.090         216.719         1  \n",
       " 3             58    7       1:28.603         215.464         1  \n",
       " 4             43    1       1:27.418         218.385         1  \n",
       " ...          ...  ...            ...             ...       ...  \n",
       " 25835         39   12       1:29.833         211.632        11  \n",
       " 25836         40   20       1:31.158         208.556        11  \n",
       " 25837         42   11       1:29.788         211.738         9  \n",
       " 25838         45   14       1:30.309         210.517       130  \n",
       " 25839         24   17       1:30.579         209.889        47  \n",
       " \n",
       " [25840 rows x 18 columns])"
      ]
     },
     "execution_count": 11,
     "metadata": {},
     "output_type": "execute_result"
    }
   ],
   "source": [
    "# Write your own code here\n",
    "\n",
    "non_num_values = results[~results['milliseconds'].str.isnumeric()]['milliseconds'].unique()\n",
    "results['milliseconds'] = pd.to_numeric(results['milliseconds'], errors='coerce')\n",
    "non_num_values, results\n",
    "\n",
    "\n",
    "\n"
   ]
  },
  {
   "attachments": {},
   "cell_type": "markdown",
   "metadata": {},
   "source": [
    "<font size = \"5\">\n",
    "\n",
    "(d) Groupby + Aggregate\n",
    "\n",
    "<font size = \"3\">\n",
    "\n",
    "- Compute the mean and standard deviation of \"laps\", <br>\n",
    "grouping by \"constructorId\". Store the new dataset <br>\n",
    "as \"df_aggCon_pos\"\n",
    "- Sort the aggregate dataset in decending <br>\n",
    "order of mean laps using \".sort_values()\"\n",
    "\n"
   ]
  },
  {
   "cell_type": "code",
   "execution_count": 12,
   "metadata": {},
   "outputs": [
    {
     "data": {
      "text/html": [
       "<div>\n",
       "<style scoped>\n",
       "    .dataframe tbody tr th:only-of-type {\n",
       "        vertical-align: middle;\n",
       "    }\n",
       "\n",
       "    .dataframe tbody tr th {\n",
       "        vertical-align: top;\n",
       "    }\n",
       "\n",
       "    .dataframe thead th {\n",
       "        text-align: right;\n",
       "    }\n",
       "</style>\n",
       "<table border=\"1\" class=\"dataframe\">\n",
       "  <thead>\n",
       "    <tr style=\"text-align: right;\">\n",
       "      <th></th>\n",
       "      <th>mean</th>\n",
       "      <th>std</th>\n",
       "    </tr>\n",
       "    <tr>\n",
       "      <th>constructorId</th>\n",
       "      <th></th>\n",
       "      <th></th>\n",
       "    </tr>\n",
       "  </thead>\n",
       "  <tbody>\n",
       "    <tr>\n",
       "      <th>149</th>\n",
       "      <td>198.500000</td>\n",
       "      <td>2.121320</td>\n",
       "    </tr>\n",
       "    <tr>\n",
       "      <th>112</th>\n",
       "      <td>197.000000</td>\n",
       "      <td>4.242641</td>\n",
       "    </tr>\n",
       "    <tr>\n",
       "      <th>109</th>\n",
       "      <td>184.285714</td>\n",
       "      <td>32.912583</td>\n",
       "    </tr>\n",
       "    <tr>\n",
       "      <th>119</th>\n",
       "      <td>178.666667</td>\n",
       "      <td>36.950417</td>\n",
       "    </tr>\n",
       "    <tr>\n",
       "      <th>108</th>\n",
       "      <td>163.764706</td>\n",
       "      <td>63.148168</td>\n",
       "    </tr>\n",
       "    <tr>\n",
       "      <th>...</th>\n",
       "      <td>...</td>\n",
       "      <td>...</td>\n",
       "    </tr>\n",
       "    <tr>\n",
       "      <th>93</th>\n",
       "      <td>0.000000</td>\n",
       "      <td>NaN</td>\n",
       "    </tr>\n",
       "    <tr>\n",
       "      <th>61</th>\n",
       "      <td>0.000000</td>\n",
       "      <td>0.000000</td>\n",
       "    </tr>\n",
       "    <tr>\n",
       "      <th>137</th>\n",
       "      <td>0.000000</td>\n",
       "      <td>NaN</td>\n",
       "    </tr>\n",
       "    <tr>\n",
       "      <th>91</th>\n",
       "      <td>0.000000</td>\n",
       "      <td>NaN</td>\n",
       "    </tr>\n",
       "    <tr>\n",
       "      <th>74</th>\n",
       "      <td>0.000000</td>\n",
       "      <td>0.000000</td>\n",
       "    </tr>\n",
       "  </tbody>\n",
       "</table>\n",
       "<p>210 rows × 2 columns</p>\n",
       "</div>"
      ],
      "text/plain": [
       "                     mean        std\n",
       "constructorId                       \n",
       "149            198.500000   2.121320\n",
       "112            197.000000   4.242641\n",
       "109            184.285714  32.912583\n",
       "119            178.666667  36.950417\n",
       "108            163.764706  63.148168\n",
       "...                   ...        ...\n",
       "93               0.000000        NaN\n",
       "61               0.000000   0.000000\n",
       "137              0.000000        NaN\n",
       "91               0.000000        NaN\n",
       "74               0.000000   0.000000\n",
       "\n",
       "[210 rows x 2 columns]"
      ]
     },
     "execution_count": 12,
     "metadata": {},
     "output_type": "execute_result"
    }
   ],
   "source": [
    "# Write your own code\n",
    "\n",
    "df_aggCon_pos = results.groupby('constructorId')['laps'].agg(['mean', 'std'])\n",
    "df_aggCon_pos = df_aggCon_pos.sort_values(by='mean', ascending=False)\n",
    "df_aggCon_pos\n",
    "\n",
    "\n"
   ]
  },
  {
   "attachments": {},
   "cell_type": "markdown",
   "metadata": {},
   "source": [
    "<font size = \"5\" >\n",
    "\n",
    "(e) Query + Groupby + Aggregate\n",
    "\n",
    "<font size = \"3\">\n",
    "\n",
    "- Use \".query()\" to subset observations with <br>\n",
    "'race_id >= 150'\n",
    "- Compute the mean and standard deviation of \"position\", <br>\n",
    "grouping by \"constructorId\". Store the new dataset <br>\n",
    "as \"df_subAggCon_pos\"\n"
   ]
  },
  {
   "cell_type": "code",
   "execution_count": 13,
   "metadata": {},
   "outputs": [
    {
     "name": "stderr",
     "output_type": "stream",
     "text": [
      "/var/folders/4h/tq2kcsbs0s9559v2ff08kwp00000gn/T/ipykernel_2275/518152786.py:4: SettingWithCopyWarning: \n",
      "A value is trying to be set on a copy of a slice from a DataFrame.\n",
      "Try using .loc[row_indexer,col_indexer] = value instead\n",
      "\n",
      "See the caveats in the documentation: https://pandas.pydata.org/pandas-docs/stable/user_guide/indexing.html#returning-a-view-versus-a-copy\n",
      "  subset['position'] = pd.to_numeric(subset['position'], errors='coerce')\n"
     ]
    },
    {
     "data": {
      "text/html": [
       "<div>\n",
       "<style scoped>\n",
       "    .dataframe tbody tr th:only-of-type {\n",
       "        vertical-align: middle;\n",
       "    }\n",
       "\n",
       "    .dataframe tbody tr th {\n",
       "        vertical-align: top;\n",
       "    }\n",
       "\n",
       "    .dataframe thead th {\n",
       "        text-align: right;\n",
       "    }\n",
       "</style>\n",
       "<table border=\"1\" class=\"dataframe\">\n",
       "  <thead>\n",
       "    <tr style=\"text-align: right;\">\n",
       "      <th></th>\n",
       "      <th>mean</th>\n",
       "      <th>std</th>\n",
       "    </tr>\n",
       "    <tr>\n",
       "      <th>constructorId</th>\n",
       "      <th></th>\n",
       "      <th></th>\n",
       "    </tr>\n",
       "  </thead>\n",
       "  <tbody>\n",
       "    <tr>\n",
       "      <th>1</th>\n",
       "      <td>6.121634</td>\n",
       "      <td>4.294358</td>\n",
       "    </tr>\n",
       "    <tr>\n",
       "      <th>3</th>\n",
       "      <td>7.983836</td>\n",
       "      <td>5.509701</td>\n",
       "    </tr>\n",
       "    <tr>\n",
       "      <th>4</th>\n",
       "      <td>8.617834</td>\n",
       "      <td>4.388534</td>\n",
       "    </tr>\n",
       "    <tr>\n",
       "      <th>5</th>\n",
       "      <td>11.430868</td>\n",
       "      <td>3.157308</td>\n",
       "    </tr>\n",
       "    <tr>\n",
       "      <th>6</th>\n",
       "      <td>4.733661</td>\n",
       "      <td>3.395834</td>\n",
       "    </tr>\n",
       "  </tbody>\n",
       "</table>\n",
       "</div>"
      ],
      "text/plain": [
       "                    mean       std\n",
       "constructorId                     \n",
       "1               6.121634  4.294358\n",
       "3               7.983836  5.509701\n",
       "4               8.617834  4.388534\n",
       "5              11.430868  3.157308\n",
       "6               4.733661  3.395834"
      ]
     },
     "execution_count": 13,
     "metadata": {},
     "output_type": "execute_result"
    }
   ],
   "source": [
    "# Write your own code\n",
    "\n",
    "subset = results.query('raceId >= 150')\n",
    "subset['position'] = pd.to_numeric(subset['position'], errors='coerce')\n",
    "df_subAggCon_pos = subset.groupby('constructorId')['position'].agg(['mean', 'std'])\n",
    "df_subAggCon_pos.head()\n",
    "\n",
    "\n"
   ]
  }
 ],
 "metadata": {
  "kernelspec": {
   "display_name": "base",
   "language": "python",
   "name": "python3"
  },
  "language_info": {
   "codemirror_mode": {
    "name": "ipython",
    "version": 3
   },
   "file_extension": ".py",
   "mimetype": "text/x-python",
   "name": "python",
   "nbconvert_exporter": "python",
   "pygments_lexer": "ipython3",
   "version": "3.11.5"
  },
  "orig_nbformat": 4,
  "vscode": {
   "interpreter": {
    "hash": "45fc1f684f6f416f40889115beff3ddf69879b64cf4bfee48cb72a61e9d15d1a"
   }
  }
 },
 "nbformat": 4,
 "nbformat_minor": 2
}
